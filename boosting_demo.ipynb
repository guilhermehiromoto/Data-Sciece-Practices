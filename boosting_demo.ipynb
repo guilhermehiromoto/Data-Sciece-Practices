{
  "nbformat": 4,
  "nbformat_minor": 0,
  "metadata": {
    "colab": {
      "name": "boosting_demo.ipynb",
      "provenance": []
    },
    "kernelspec": {
      "name": "python3",
      "display_name": "Python 3"
    },
    "language_info": {
      "name": "python"
    }
  },
  "cells": [
    {
      "cell_type": "code",
      "metadata": {
        "id": "_LAtBfX9X2Xp"
      },
      "source": [
        "import numpy as np\n",
        "import pandas as pd\n",
        "import matplotlib.pyplot as plt"
      ],
      "execution_count": null,
      "outputs": []
    },
    {
      "cell_type": "markdown",
      "metadata": {
        "id": "LapxUY5zX4e2"
      },
      "source": [
        "# Boosting"
      ]
    },
    {
      "cell_type": "markdown",
      "metadata": {
        "id": "huAlaCa9YC11"
      },
      "source": [
        "$$\n",
        "G_m(x) = G_{m-1}(x) + \\alpha h_m(x)\n",
        "$$"
      ]
    },
    {
      "cell_type": "markdown",
      "metadata": {
        "id": "PwjBLfh_YOlX"
      },
      "source": [
        "Vamos começar com um exemplo simples.\n",
        "Imagine um dataset onde temos a área de um imóvel em sqfeet e queremos prever o valor de seu aluguel."
      ]
    },
    {
      "cell_type": "code",
      "metadata": {
        "colab": {
          "base_uri": "https://localhost:8080/",
          "height": 206
        },
        "id": "Z3gQ9P5DYZ3D",
        "outputId": "c221ff95-33e5-422b-b4ff-9bb118df2a22"
      },
      "source": [
        "dic = {'sqfeet': [750,800,850,900,950],\n",
        "      'rent':[1160,1200,1280,1450,2000]}\n",
        "\n",
        "df = pd.DataFrame(data = dic)\n",
        "\n",
        "df.head()"
      ],
      "execution_count": null,
      "outputs": [
        {
          "output_type": "execute_result",
          "data": {
            "text/html": [
              "<div>\n",
              "<style scoped>\n",
              "    .dataframe tbody tr th:only-of-type {\n",
              "        vertical-align: middle;\n",
              "    }\n",
              "\n",
              "    .dataframe tbody tr th {\n",
              "        vertical-align: top;\n",
              "    }\n",
              "\n",
              "    .dataframe thead th {\n",
              "        text-align: right;\n",
              "    }\n",
              "</style>\n",
              "<table border=\"1\" class=\"dataframe\">\n",
              "  <thead>\n",
              "    <tr style=\"text-align: right;\">\n",
              "      <th></th>\n",
              "      <th>sqfeet</th>\n",
              "      <th>rent</th>\n",
              "    </tr>\n",
              "  </thead>\n",
              "  <tbody>\n",
              "    <tr>\n",
              "      <th>0</th>\n",
              "      <td>750</td>\n",
              "      <td>1160</td>\n",
              "    </tr>\n",
              "    <tr>\n",
              "      <th>1</th>\n",
              "      <td>800</td>\n",
              "      <td>1200</td>\n",
              "    </tr>\n",
              "    <tr>\n",
              "      <th>2</th>\n",
              "      <td>850</td>\n",
              "      <td>1280</td>\n",
              "    </tr>\n",
              "    <tr>\n",
              "      <th>3</th>\n",
              "      <td>900</td>\n",
              "      <td>1450</td>\n",
              "    </tr>\n",
              "    <tr>\n",
              "      <th>4</th>\n",
              "      <td>950</td>\n",
              "      <td>2000</td>\n",
              "    </tr>\n",
              "  </tbody>\n",
              "</table>\n",
              "</div>"
            ],
            "text/plain": [
              "   sqfeet  rent\n",
              "0     750  1160\n",
              "1     800  1200\n",
              "2     850  1280\n",
              "3     900  1450\n",
              "4     950  2000"
            ]
          },
          "metadata": {},
          "execution_count": 2
        }
      ]
    },
    {
      "cell_type": "markdown",
      "metadata": {
        "id": "cD3m2liqZecm"
      },
      "source": [
        "Como chute inicial vamos adotar a média dos valores "
      ]
    },
    {
      "cell_type": "code",
      "metadata": {
        "colab": {
          "base_uri": "https://localhost:8080/",
          "height": 206
        },
        "id": "VFMcrOt6ZkpB",
        "outputId": "f07d35a1-ad74-4557-d485-bb0c75229253"
      },
      "source": [
        "rent_mean = df.mean()[1]\n",
        "F0 = [rent_mean for i in range(5)]\n",
        "df['F0'] = F0\n",
        "df.head()"
      ],
      "execution_count": null,
      "outputs": [
        {
          "output_type": "execute_result",
          "data": {
            "text/html": [
              "<div>\n",
              "<style scoped>\n",
              "    .dataframe tbody tr th:only-of-type {\n",
              "        vertical-align: middle;\n",
              "    }\n",
              "\n",
              "    .dataframe tbody tr th {\n",
              "        vertical-align: top;\n",
              "    }\n",
              "\n",
              "    .dataframe thead th {\n",
              "        text-align: right;\n",
              "    }\n",
              "</style>\n",
              "<table border=\"1\" class=\"dataframe\">\n",
              "  <thead>\n",
              "    <tr style=\"text-align: right;\">\n",
              "      <th></th>\n",
              "      <th>sqfeet</th>\n",
              "      <th>rent</th>\n",
              "      <th>F0</th>\n",
              "    </tr>\n",
              "  </thead>\n",
              "  <tbody>\n",
              "    <tr>\n",
              "      <th>0</th>\n",
              "      <td>750</td>\n",
              "      <td>1160</td>\n",
              "      <td>1418.0</td>\n",
              "    </tr>\n",
              "    <tr>\n",
              "      <th>1</th>\n",
              "      <td>800</td>\n",
              "      <td>1200</td>\n",
              "      <td>1418.0</td>\n",
              "    </tr>\n",
              "    <tr>\n",
              "      <th>2</th>\n",
              "      <td>850</td>\n",
              "      <td>1280</td>\n",
              "      <td>1418.0</td>\n",
              "    </tr>\n",
              "    <tr>\n",
              "      <th>3</th>\n",
              "      <td>900</td>\n",
              "      <td>1450</td>\n",
              "      <td>1418.0</td>\n",
              "    </tr>\n",
              "    <tr>\n",
              "      <th>4</th>\n",
              "      <td>950</td>\n",
              "      <td>2000</td>\n",
              "      <td>1418.0</td>\n",
              "    </tr>\n",
              "  </tbody>\n",
              "</table>\n",
              "</div>"
            ],
            "text/plain": [
              "   sqfeet  rent      F0\n",
              "0     750  1160  1418.0\n",
              "1     800  1200  1418.0\n",
              "2     850  1280  1418.0\n",
              "3     900  1450  1418.0\n",
              "4     950  2000  1418.0"
            ]
          },
          "metadata": {},
          "execution_count": 3
        }
      ]
    },
    {
      "cell_type": "code",
      "metadata": {
        "colab": {
          "base_uri": "https://localhost:8080/",
          "height": 297
        },
        "id": "0toT8PhIaVxz",
        "outputId": "50a35f4c-3e8d-4638-9ca2-c52c3f1c354f"
      },
      "source": [
        "plt.plot(df['sqfeet'],df['rent'],linestyle='None', marker = 'o')\n",
        "plt.plot(df['sqfeet'],df['F0'])\n",
        "\n",
        "plt.xlabel('SqFeet(x)')\n",
        "plt.ylabel('Rent(y)')"
      ],
      "execution_count": null,
      "outputs": [
        {
          "output_type": "execute_result",
          "data": {
            "text/plain": [
              "Text(0, 0.5, 'Rent(y)')"
            ]
          },
          "metadata": {},
          "execution_count": 4
        },
        {
          "output_type": "display_data",
          "data": {
            "image/png": "[encoded data removed]",
            "text/plain": [
              "<Figure size 432x288 with 1 Axes>"
            ]
          },
          "metadata": {
            "needs_background": "light"
          }
        }
      ]
    },
    {
      "cell_type": "markdown",
      "metadata": {
        "id": "58utFlWVbj_b"
      },
      "source": [
        "Vemos que o chute inicial não é horrível mas também não passa perto da maioria dos valores. \n",
        "\n",
        "\n",
        "A distância entre nosso chute e o valor real, podemos chamar de residual, e é exatamente ela que nosso aprendiz fraco irá prever."
      ]
    },
    {
      "cell_type": "markdown",
      "metadata": {
        "id": "6Ex0S9HNb5ri"
      },
      "source": [
        "Como aprendiz fraco iremos utilizar uma árvore de regressão de apenas um corte."
      ]
    },
    {
      "cell_type": "code",
      "metadata": {
        "colab": {
          "base_uri": "https://localhost:8080/",
          "height": 206
        },
        "id": "rpmyGnjnb4ec",
        "outputId": "b5bf9d15-46e6-49a3-b47e-dfc5d42ddcef"
      },
      "source": [
        "residual = df['rent']-df['F0']\n",
        "df['y-F0'] = residual\n",
        "df.head()"
      ],
      "execution_count": null,
      "outputs": [
        {
          "output_type": "execute_result",
          "data": {
            "text/html": [
              "<div>\n",
              "<style scoped>\n",
              "    .dataframe tbody tr th:only-of-type {\n",
              "        vertical-align: middle;\n",
              "    }\n",
              "\n",
              "    .dataframe tbody tr th {\n",
              "        vertical-align: top;\n",
              "    }\n",
              "\n",
              "    .dataframe thead th {\n",
              "        text-align: right;\n",
              "    }\n",
              "</style>\n",
              "<table border=\"1\" class=\"dataframe\">\n",
              "  <thead>\n",
              "    <tr style=\"text-align: right;\">\n",
              "      <th></th>\n",
              "      <th>sqfeet</th>\n",
              "      <th>rent</th>\n",
              "      <th>F0</th>\n",
              "      <th>y-F0</th>\n",
              "    </tr>\n",
              "  </thead>\n",
              "  <tbody>\n",
              "    <tr>\n",
              "      <th>0</th>\n",
              "      <td>750</td>\n",
              "      <td>1160</td>\n",
              "      <td>1418.0</td>\n",
              "      <td>-258.0</td>\n",
              "    </tr>\n",
              "    <tr>\n",
              "      <th>1</th>\n",
              "      <td>800</td>\n",
              "      <td>1200</td>\n",
              "      <td>1418.0</td>\n",
              "      <td>-218.0</td>\n",
              "    </tr>\n",
              "    <tr>\n",
              "      <th>2</th>\n",
              "      <td>850</td>\n",
              "      <td>1280</td>\n",
              "      <td>1418.0</td>\n",
              "      <td>-138.0</td>\n",
              "    </tr>\n",
              "    <tr>\n",
              "      <th>3</th>\n",
              "      <td>900</td>\n",
              "      <td>1450</td>\n",
              "      <td>1418.0</td>\n",
              "      <td>32.0</td>\n",
              "    </tr>\n",
              "    <tr>\n",
              "      <th>4</th>\n",
              "      <td>950</td>\n",
              "      <td>2000</td>\n",
              "      <td>1418.0</td>\n",
              "      <td>582.0</td>\n",
              "    </tr>\n",
              "  </tbody>\n",
              "</table>\n",
              "</div>"
            ],
            "text/plain": [
              "   sqfeet  rent      F0   y-F0\n",
              "0     750  1160  1418.0 -258.0\n",
              "1     800  1200  1418.0 -218.0\n",
              "2     850  1280  1418.0 -138.0\n",
              "3     900  1450  1418.0   32.0\n",
              "4     950  2000  1418.0  582.0"
            ]
          },
          "metadata": {},
          "execution_count": 5
        }
      ]
    },
    {
      "cell_type": "code",
      "metadata": {
        "colab": {
          "base_uri": "https://localhost:8080/",
          "height": 297
        },
        "id": "-AKYENhxc8pi",
        "outputId": "aa572858-78bc-4a24-bed9-6248bb95bc1c"
      },
      "source": [
        "plt.plot(df['sqfeet'],df['y-F0'],linestyle='None', marker = 'o')\n",
        "\n",
        "plt.xlabel('SqFeet(x)')\n",
        "plt.ylabel('y-F0')"
      ],
      "execution_count": null,
      "outputs": [
        {
          "output_type": "execute_result",
          "data": {
            "text/plain": [
              "Text(0, 0.5, 'y-F0')"
            ]
          },
          "metadata": {},
          "execution_count": 6
        },
        {
          "output_type": "display_data",
          "data": {
            "image/png": "[encoded data removed]",
            "text/plain": [
              "<Figure size 432x288 with 1 Axes>"
            ]
          },
          "metadata": {
            "needs_background": "light"
          }
        }
      ]
    },
    {
      "cell_type": "markdown",
      "metadata": {
        "id": "LgKChlV-dHHK"
      },
      "source": [
        "Para treinar o modelo vou usar a mesma entrada Sqfett, entretanto a saída será considerada y-F0. Ou seja, nosso modelo aprende a prever o erro do passo anterior de certa maneira."
      ]
    },
    {
      "cell_type": "code",
      "metadata": {
        "colab": {
          "base_uri": "https://localhost:8080/"
        },
        "id": "QQMoR3CKdRqz",
        "outputId": "b8ed9136-2fa9-47c2-e198-5dbbb5b69330"
      },
      "source": [
        "from sklearn.tree import DecisionTreeRegressor\n",
        "\n",
        "regressor1 = DecisionTreeRegressor(max_depth = 1)\n",
        "\n",
        "regressor1.fit(df['sqfeet'].to_numpy().reshape(-1,1) ,df['y-F0'].to_numpy().reshape(-1,1))"
      ],
      "execution_count": null,
      "outputs": [
        {
          "output_type": "execute_result",
          "data": {
            "text/plain": [
              "DecisionTreeRegressor(ccp_alpha=0.0, criterion='mse', max_depth=1,\n",
              "                      max_features=None, max_leaf_nodes=None,\n",
              "                      min_impurity_decrease=0.0, min_impurity_split=None,\n",
              "                      min_samples_leaf=1, min_samples_split=2,\n",
              "                      min_weight_fraction_leaf=0.0, presort='deprecated',\n",
              "                      random_state=None, splitter='best')"
            ]
          },
          "metadata": {},
          "execution_count": 7
        }
      ]
    },
    {
      "cell_type": "code",
      "metadata": {
        "colab": {
          "base_uri": "https://localhost:8080/",
          "height": 297
        },
        "id": "SQEGseDWfD5m",
        "outputId": "dfea10e0-9e85-4980-cd04-580cf1d41ce2"
      },
      "source": [
        "plt.plot(df['sqfeet'],df['y-F0'],linestyle='None', marker = 'o')\n",
        "a = np.arange(750,950)\n",
        "plt.plot(a,regressor1.predict(a.reshape(-1,1)))\n",
        "\n",
        "\n",
        "plt.xlabel('SqFeet(x)')\n",
        "plt.ylabel('y-F0')"
      ],
      "execution_count": null,
      "outputs": [
        {
          "output_type": "execute_result",
          "data": {
            "text/plain": [
              "Text(0, 0.5, 'y-F0')"
            ]
          },
          "metadata": {},
          "execution_count": 8
        },
        {
          "output_type": "display_data",
          "data": {
            "image/png": "[encoded data removed]",
            "text/plain": [
              "<Figure size 432x288 with 1 Axes>"
            ]
          },
          "metadata": {
            "needs_background": "light"
          }
        }
      ]
    },
    {
      "cell_type": "markdown",
      "metadata": {
        "id": "Rx8hiVOShzvK"
      },
      "source": [
        "Podemos obter F1 somando os dois modelos."
      ]
    },
    {
      "cell_type": "code",
      "metadata": {
        "id": "oBqJr-lCim6T",
        "colab": {
          "base_uri": "https://localhost:8080/",
          "height": 206
        },
        "outputId": "2baf1be8-4800-4ad2-9966-618d6502d399"
      },
      "source": [
        "F1 = df['F0']+regressor1.predict(df['sqfeet'].to_numpy().reshape(-1,1))\n",
        "df['F1'] = F1\n",
        "df.head()"
      ],
      "execution_count": null,
      "outputs": [
        {
          "output_type": "execute_result",
          "data": {
            "text/html": [
              "<div>\n",
              "<style scoped>\n",
              "    .dataframe tbody tr th:only-of-type {\n",
              "        vertical-align: middle;\n",
              "    }\n",
              "\n",
              "    .dataframe tbody tr th {\n",
              "        vertical-align: top;\n",
              "    }\n",
              "\n",
              "    .dataframe thead th {\n",
              "        text-align: right;\n",
              "    }\n",
              "</style>\n",
              "<table border=\"1\" class=\"dataframe\">\n",
              "  <thead>\n",
              "    <tr style=\"text-align: right;\">\n",
              "      <th></th>\n",
              "      <th>sqfeet</th>\n",
              "      <th>rent</th>\n",
              "      <th>F0</th>\n",
              "      <th>y-F0</th>\n",
              "      <th>F1</th>\n",
              "    </tr>\n",
              "  </thead>\n",
              "  <tbody>\n",
              "    <tr>\n",
              "      <th>0</th>\n",
              "      <td>750</td>\n",
              "      <td>1160</td>\n",
              "      <td>1418.0</td>\n",
              "      <td>-258.0</td>\n",
              "      <td>1272.5</td>\n",
              "    </tr>\n",
              "    <tr>\n",
              "      <th>1</th>\n",
              "      <td>800</td>\n",
              "      <td>1200</td>\n",
              "      <td>1418.0</td>\n",
              "      <td>-218.0</td>\n",
              "      <td>1272.5</td>\n",
              "    </tr>\n",
              "    <tr>\n",
              "      <th>2</th>\n",
              "      <td>850</td>\n",
              "      <td>1280</td>\n",
              "      <td>1418.0</td>\n",
              "      <td>-138.0</td>\n",
              "      <td>1272.5</td>\n",
              "    </tr>\n",
              "    <tr>\n",
              "      <th>3</th>\n",
              "      <td>900</td>\n",
              "      <td>1450</td>\n",
              "      <td>1418.0</td>\n",
              "      <td>32.0</td>\n",
              "      <td>1272.5</td>\n",
              "    </tr>\n",
              "    <tr>\n",
              "      <th>4</th>\n",
              "      <td>950</td>\n",
              "      <td>2000</td>\n",
              "      <td>1418.0</td>\n",
              "      <td>582.0</td>\n",
              "      <td>2000.0</td>\n",
              "    </tr>\n",
              "  </tbody>\n",
              "</table>\n",
              "</div>"
            ],
            "text/plain": [
              "   sqfeet  rent      F0   y-F0      F1\n",
              "0     750  1160  1418.0 -258.0  1272.5\n",
              "1     800  1200  1418.0 -218.0  1272.5\n",
              "2     850  1280  1418.0 -138.0  1272.5\n",
              "3     900  1450  1418.0   32.0  1272.5\n",
              "4     950  2000  1418.0  582.0  2000.0"
            ]
          },
          "metadata": {},
          "execution_count": 10
        }
      ]
    },
    {
      "cell_type": "code",
      "metadata": {
        "colab": {
          "base_uri": "https://localhost:8080/",
          "height": 297
        },
        "id": "jPrM-LdDjdb3",
        "outputId": "0f706b37-b094-457e-e7ad-71dba037e57e"
      },
      "source": [
        "plt.plot(df['sqfeet'],df['rent'],linestyle='None', marker = 'o')\n",
        "plt.plot(df['sqfeet'],df['F1'])\n",
        "\n",
        "plt.xlabel('SqFeet(x)')\n",
        "plt.ylabel('Rent(y)')"
      ],
      "execution_count": null,
      "outputs": [
        {
          "output_type": "execute_result",
          "data": {
            "text/plain": [
              "Text(0, 0.5, 'Rent(y)')"
            ]
          },
          "metadata": {},
          "execution_count": 11
        },
        {
          "output_type": "display_data",
          "data": {
            "image/png": "[encoded data removed]",
            "text/plain": [
              "<Figure size 432x288 with 1 Axes>"
            ]
          },
          "metadata": {
            "needs_background": "light"
          }
        }
      ]
    },
    {
      "cell_type": "markdown",
      "metadata": {
        "id": "ZvL8DtBUkBPl"
      },
      "source": [
        "Agora podemos repetir o mesmo procedimento - calcular o residual de F1 e treinar um modelo para prever este residual."
      ]
    },
    {
      "cell_type": "code",
      "metadata": {
        "colab": {
          "base_uri": "https://localhost:8080/",
          "height": 206
        },
        "id": "hLNIAiaCkZlx",
        "outputId": "75c50f6c-6f33-45f5-ceaf-fb609dcd020f"
      },
      "source": [
        "residual = df['rent']-df['F1']\n",
        "df['y-F1'] = residual\n",
        "df.head()"
      ],
      "execution_count": null,
      "outputs": [
        {
          "output_type": "execute_result",
          "data": {
            "text/html": [
              "<div>\n",
              "<style scoped>\n",
              "    .dataframe tbody tr th:only-of-type {\n",
              "        vertical-align: middle;\n",
              "    }\n",
              "\n",
              "    .dataframe tbody tr th {\n",
              "        vertical-align: top;\n",
              "    }\n",
              "\n",
              "    .dataframe thead th {\n",
              "        text-align: right;\n",
              "    }\n",
              "</style>\n",
              "<table border=\"1\" class=\"dataframe\">\n",
              "  <thead>\n",
              "    <tr style=\"text-align: right;\">\n",
              "      <th></th>\n",
              "      <th>sqfeet</th>\n",
              "      <th>rent</th>\n",
              "      <th>F0</th>\n",
              "      <th>y-F0</th>\n",
              "      <th>F1</th>\n",
              "      <th>y-F1</th>\n",
              "    </tr>\n",
              "  </thead>\n",
              "  <tbody>\n",
              "    <tr>\n",
              "      <th>0</th>\n",
              "      <td>750</td>\n",
              "      <td>1160</td>\n",
              "      <td>1418.0</td>\n",
              "      <td>-258.0</td>\n",
              "      <td>1272.5</td>\n",
              "      <td>-112.5</td>\n",
              "    </tr>\n",
              "    <tr>\n",
              "      <th>1</th>\n",
              "      <td>800</td>\n",
              "      <td>1200</td>\n",
              "      <td>1418.0</td>\n",
              "      <td>-218.0</td>\n",
              "      <td>1272.5</td>\n",
              "      <td>-72.5</td>\n",
              "    </tr>\n",
              "    <tr>\n",
              "      <th>2</th>\n",
              "      <td>850</td>\n",
              "      <td>1280</td>\n",
              "      <td>1418.0</td>\n",
              "      <td>-138.0</td>\n",
              "      <td>1272.5</td>\n",
              "      <td>7.5</td>\n",
              "    </tr>\n",
              "    <tr>\n",
              "      <th>3</th>\n",
              "      <td>900</td>\n",
              "      <td>1450</td>\n",
              "      <td>1418.0</td>\n",
              "      <td>32.0</td>\n",
              "      <td>1272.5</td>\n",
              "      <td>177.5</td>\n",
              "    </tr>\n",
              "    <tr>\n",
              "      <th>4</th>\n",
              "      <td>950</td>\n",
              "      <td>2000</td>\n",
              "      <td>1418.0</td>\n",
              "      <td>582.0</td>\n",
              "      <td>2000.0</td>\n",
              "      <td>0.0</td>\n",
              "    </tr>\n",
              "  </tbody>\n",
              "</table>\n",
              "</div>"
            ],
            "text/plain": [
              "   sqfeet  rent      F0   y-F0      F1   y-F1\n",
              "0     750  1160  1418.0 -258.0  1272.5 -112.5\n",
              "1     800  1200  1418.0 -218.0  1272.5  -72.5\n",
              "2     850  1280  1418.0 -138.0  1272.5    7.5\n",
              "3     900  1450  1418.0   32.0  1272.5  177.5\n",
              "4     950  2000  1418.0  582.0  2000.0    0.0"
            ]
          },
          "metadata": {},
          "execution_count": 12
        }
      ]
    },
    {
      "cell_type": "code",
      "metadata": {
        "colab": {
          "base_uri": "https://localhost:8080/",
          "height": 297
        },
        "id": "0_lLAGELknk7",
        "outputId": "f4aff88f-9782-4812-c2de-ca148b065c59"
      },
      "source": [
        "plt.plot(df['sqfeet'],df['y-F1'],linestyle='None', marker = 'o')\n",
        "\n",
        "plt.xlabel('SqFeet(x)')\n",
        "plt.ylabel('y-F1')"
      ],
      "execution_count": null,
      "outputs": [
        {
          "output_type": "execute_result",
          "data": {
            "text/plain": [
              "Text(0, 0.5, 'y-F1')"
            ]
          },
          "metadata": {},
          "execution_count": 13
        },
        {
          "output_type": "display_data",
          "data": {
            "image/png": "[encoded data removed]",
            "text/plain": [
              "<Figure size 432x288 with 1 Axes>"
            ]
          },
          "metadata": {
            "needs_background": "light"
          }
        }
      ]
    },
    {
      "cell_type": "code",
      "metadata": {
        "colab": {
          "base_uri": "https://localhost:8080/"
        },
        "id": "NcvRT18rkzzv",
        "outputId": "3f027aa2-0871-49b2-8fe2-bffb2f3ce9fc"
      },
      "source": [
        "regressor2 = DecisionTreeRegressor(max_depth = 1)\n",
        "\n",
        "regressor2.fit(df['sqfeet'].to_numpy().reshape(-1,1) ,df['y-F1'].to_numpy().reshape(-1,1))"
      ],
      "execution_count": null,
      "outputs": [
        {
          "output_type": "execute_result",
          "data": {
            "text/plain": [
              "DecisionTreeRegressor(ccp_alpha=0.0, criterion='mse', max_depth=1,\n",
              "                      max_features=None, max_leaf_nodes=None,\n",
              "                      min_impurity_decrease=0.0, min_impurity_split=None,\n",
              "                      min_samples_leaf=1, min_samples_split=2,\n",
              "                      min_weight_fraction_leaf=0.0, presort='deprecated',\n",
              "                      random_state=None, splitter='best')"
            ]
          },
          "metadata": {},
          "execution_count": 14
        }
      ]
    },
    {
      "cell_type": "code",
      "metadata": {
        "colab": {
          "base_uri": "https://localhost:8080/",
          "height": 297
        },
        "id": "9GEc5p1UlAFS",
        "outputId": "577c0bc8-0c1c-46f4-dbb9-8a0222fcf7ac"
      },
      "source": [
        "plt.plot(df['sqfeet'],df['y-F1'],linestyle='None', marker = 'o')\n",
        "a = np.arange(750,950)\n",
        "plt.plot(a,regressor2.predict(a.reshape(-1,1)))\n",
        "\n",
        "\n",
        "plt.xlabel('SqFeet(x)')\n",
        "plt.ylabel('y-F1')"
      ],
      "execution_count": null,
      "outputs": [
        {
          "output_type": "execute_result",
          "data": {
            "text/plain": [
              "Text(0, 0.5, 'y-F1')"
            ]
          },
          "metadata": {},
          "execution_count": 15
        },
        {
          "output_type": "display_data",
          "data": {
            "image/png": "[encoded data removed]",
            "text/plain": [
              "<Figure size 432x288 with 1 Axes>"
            ]
          },
          "metadata": {
            "needs_background": "light"
          }
        }
      ]
    },
    {
      "cell_type": "code",
      "metadata": {
        "id": "8CKNxiMAlPn0",
        "colab": {
          "base_uri": "https://localhost:8080/",
          "height": 206
        },
        "outputId": "857233c6-820c-4bd9-e2d7-942d78639013"
      },
      "source": [
        "F2 = df['F1']+regressor2.predict(df['sqfeet'].to_numpy().reshape(-1,1))\n",
        "df['F2'] = F2\n",
        "df.head()"
      ],
      "execution_count": null,
      "outputs": [
        {
          "output_type": "execute_result",
          "data": {
            "text/html": [
              "<div>\n",
              "<style scoped>\n",
              "    .dataframe tbody tr th:only-of-type {\n",
              "        vertical-align: middle;\n",
              "    }\n",
              "\n",
              "    .dataframe tbody tr th {\n",
              "        vertical-align: top;\n",
              "    }\n",
              "\n",
              "    .dataframe thead th {\n",
              "        text-align: right;\n",
              "    }\n",
              "</style>\n",
              "<table border=\"1\" class=\"dataframe\">\n",
              "  <thead>\n",
              "    <tr style=\"text-align: right;\">\n",
              "      <th></th>\n",
              "      <th>sqfeet</th>\n",
              "      <th>rent</th>\n",
              "      <th>F0</th>\n",
              "      <th>y-F0</th>\n",
              "      <th>F1</th>\n",
              "      <th>y-F1</th>\n",
              "      <th>F2</th>\n",
              "    </tr>\n",
              "  </thead>\n",
              "  <tbody>\n",
              "    <tr>\n",
              "      <th>0</th>\n",
              "      <td>750</td>\n",
              "      <td>1160</td>\n",
              "      <td>1418.0</td>\n",
              "      <td>-258.0</td>\n",
              "      <td>1272.5</td>\n",
              "      <td>-112.5</td>\n",
              "      <td>1180.000000</td>\n",
              "    </tr>\n",
              "    <tr>\n",
              "      <th>1</th>\n",
              "      <td>800</td>\n",
              "      <td>1200</td>\n",
              "      <td>1418.0</td>\n",
              "      <td>-218.0</td>\n",
              "      <td>1272.5</td>\n",
              "      <td>-72.5</td>\n",
              "      <td>1180.000000</td>\n",
              "    </tr>\n",
              "    <tr>\n",
              "      <th>2</th>\n",
              "      <td>850</td>\n",
              "      <td>1280</td>\n",
              "      <td>1418.0</td>\n",
              "      <td>-138.0</td>\n",
              "      <td>1272.5</td>\n",
              "      <td>7.5</td>\n",
              "      <td>1334.166667</td>\n",
              "    </tr>\n",
              "    <tr>\n",
              "      <th>3</th>\n",
              "      <td>900</td>\n",
              "      <td>1450</td>\n",
              "      <td>1418.0</td>\n",
              "      <td>32.0</td>\n",
              "      <td>1272.5</td>\n",
              "      <td>177.5</td>\n",
              "      <td>1334.166667</td>\n",
              "    </tr>\n",
              "    <tr>\n",
              "      <th>4</th>\n",
              "      <td>950</td>\n",
              "      <td>2000</td>\n",
              "      <td>1418.0</td>\n",
              "      <td>582.0</td>\n",
              "      <td>2000.0</td>\n",
              "      <td>0.0</td>\n",
              "      <td>2061.666667</td>\n",
              "    </tr>\n",
              "  </tbody>\n",
              "</table>\n",
              "</div>"
            ],
            "text/plain": [
              "   sqfeet  rent      F0   y-F0      F1   y-F1           F2\n",
              "0     750  1160  1418.0 -258.0  1272.5 -112.5  1180.000000\n",
              "1     800  1200  1418.0 -218.0  1272.5  -72.5  1180.000000\n",
              "2     850  1280  1418.0 -138.0  1272.5    7.5  1334.166667\n",
              "3     900  1450  1418.0   32.0  1272.5  177.5  1334.166667\n",
              "4     950  2000  1418.0  582.0  2000.0    0.0  2061.666667"
            ]
          },
          "metadata": {},
          "execution_count": 19
        }
      ]
    },
    {
      "cell_type": "code",
      "metadata": {
        "colab": {
          "base_uri": "https://localhost:8080/",
          "height": 297
        },
        "id": "HsHDwAUqlgjG",
        "outputId": "b8d51a5f-b69f-4676-f868-485d33537bf5"
      },
      "source": [
        "plt.plot(df['sqfeet'],df['rent'],linestyle='None', marker = 'o')\n",
        "plt.plot(df['sqfeet'],df['F2'])\n",
        "\n",
        "plt.xlabel('SqFeet(x)')\n",
        "plt.ylabel('Rent(y)')"
      ],
      "execution_count": null,
      "outputs": [
        {
          "output_type": "execute_result",
          "data": {
            "text/plain": [
              "Text(0, 0.5, 'Rent(y)')"
            ]
          },
          "metadata": {},
          "execution_count": 20
        },
        {
          "output_type": "display_data",
          "data": {
            "image/png": "[encoded data removed]",
            "text/plain": [
              "<Figure size 432x288 with 1 Axes>"
            ]
          },
          "metadata": {
            "needs_background": "light"
          }
        }
      ]
    },
    {
      "cell_type": "code",
      "metadata": {
        "colab": {
          "base_uri": "https://localhost:8080/",
          "height": 206
        },
        "id": "bijpp_sZllhO",
        "outputId": "31a8ddbc-16aa-4c22-c4fc-ac2ba2af9bff"
      },
      "source": [
        "residual = df['rent']-df['F2']\n",
        "df['y-F2'] = residual\n",
        "df.head()"
      ],
      "execution_count": null,
      "outputs": [
        {
          "output_type": "execute_result",
          "data": {
            "text/html": [
              "<div>\n",
              "<style scoped>\n",
              "    .dataframe tbody tr th:only-of-type {\n",
              "        vertical-align: middle;\n",
              "    }\n",
              "\n",
              "    .dataframe tbody tr th {\n",
              "        vertical-align: top;\n",
              "    }\n",
              "\n",
              "    .dataframe thead th {\n",
              "        text-align: right;\n",
              "    }\n",
              "</style>\n",
              "<table border=\"1\" class=\"dataframe\">\n",
              "  <thead>\n",
              "    <tr style=\"text-align: right;\">\n",
              "      <th></th>\n",
              "      <th>sqfeet</th>\n",
              "      <th>rent</th>\n",
              "      <th>F0</th>\n",
              "      <th>y-F0</th>\n",
              "      <th>F1</th>\n",
              "      <th>y-F1</th>\n",
              "      <th>F2</th>\n",
              "      <th>y-F2</th>\n",
              "    </tr>\n",
              "  </thead>\n",
              "  <tbody>\n",
              "    <tr>\n",
              "      <th>0</th>\n",
              "      <td>750</td>\n",
              "      <td>1160</td>\n",
              "      <td>1418.0</td>\n",
              "      <td>-258.0</td>\n",
              "      <td>1272.5</td>\n",
              "      <td>-112.5</td>\n",
              "      <td>1180.000000</td>\n",
              "      <td>-20.000000</td>\n",
              "    </tr>\n",
              "    <tr>\n",
              "      <th>1</th>\n",
              "      <td>800</td>\n",
              "      <td>1200</td>\n",
              "      <td>1418.0</td>\n",
              "      <td>-218.0</td>\n",
              "      <td>1272.5</td>\n",
              "      <td>-72.5</td>\n",
              "      <td>1180.000000</td>\n",
              "      <td>20.000000</td>\n",
              "    </tr>\n",
              "    <tr>\n",
              "      <th>2</th>\n",
              "      <td>850</td>\n",
              "      <td>1280</td>\n",
              "      <td>1418.0</td>\n",
              "      <td>-138.0</td>\n",
              "      <td>1272.5</td>\n",
              "      <td>7.5</td>\n",
              "      <td>1334.166667</td>\n",
              "      <td>-54.166667</td>\n",
              "    </tr>\n",
              "    <tr>\n",
              "      <th>3</th>\n",
              "      <td>900</td>\n",
              "      <td>1450</td>\n",
              "      <td>1418.0</td>\n",
              "      <td>32.0</td>\n",
              "      <td>1272.5</td>\n",
              "      <td>177.5</td>\n",
              "      <td>1334.166667</td>\n",
              "      <td>115.833333</td>\n",
              "    </tr>\n",
              "    <tr>\n",
              "      <th>4</th>\n",
              "      <td>950</td>\n",
              "      <td>2000</td>\n",
              "      <td>1418.0</td>\n",
              "      <td>582.0</td>\n",
              "      <td>2000.0</td>\n",
              "      <td>0.0</td>\n",
              "      <td>2061.666667</td>\n",
              "      <td>-61.666667</td>\n",
              "    </tr>\n",
              "  </tbody>\n",
              "</table>\n",
              "</div>"
            ],
            "text/plain": [
              "   sqfeet  rent      F0   y-F0      F1   y-F1           F2        y-F2\n",
              "0     750  1160  1418.0 -258.0  1272.5 -112.5  1180.000000  -20.000000\n",
              "1     800  1200  1418.0 -218.0  1272.5  -72.5  1180.000000   20.000000\n",
              "2     850  1280  1418.0 -138.0  1272.5    7.5  1334.166667  -54.166667\n",
              "3     900  1450  1418.0   32.0  1272.5  177.5  1334.166667  115.833333\n",
              "4     950  2000  1418.0  582.0  2000.0    0.0  2061.666667  -61.666667"
            ]
          },
          "metadata": {},
          "execution_count": 21
        }
      ]
    },
    {
      "cell_type": "code",
      "metadata": {
        "colab": {
          "base_uri": "https://localhost:8080/",
          "height": 297
        },
        "id": "sd50tTM3mNwn",
        "outputId": "5f1ecf3b-f013-49c1-d139-1a009090979c"
      },
      "source": [
        "plt.plot(df['sqfeet'],df['y-F2'],linestyle='None', marker = 'o')\n",
        "\n",
        "plt.xlabel('SqFeet(x)')\n",
        "plt.ylabel('y-F2')"
      ],
      "execution_count": null,
      "outputs": [
        {
          "output_type": "execute_result",
          "data": {
            "text/plain": [
              "Text(0, 0.5, 'y-F2')"
            ]
          },
          "metadata": {},
          "execution_count": 22
        },
        {
          "output_type": "display_data",
          "data": {
            "image/png": "[encoded data removed]",
            "text/plain": [
              "<Figure size 432x288 with 1 Axes>"
            ]
          },
          "metadata": {
            "needs_background": "light"
          }
        }
      ]
    },
    {
      "cell_type": "code",
      "metadata": {
        "colab": {
          "base_uri": "https://localhost:8080/"
        },
        "id": "R6yc3elLmf34",
        "outputId": "4c36c22a-a988-4f04-ece3-d143f4aaa173"
      },
      "source": [
        "regressor3 = DecisionTreeRegressor(max_depth = 1)\n",
        "\n",
        "regressor3.fit(df['sqfeet'].to_numpy().reshape(-1,1) ,df['y-F2'].to_numpy().reshape(-1,1))"
      ],
      "execution_count": null,
      "outputs": [
        {
          "output_type": "execute_result",
          "data": {
            "text/plain": [
              "DecisionTreeRegressor(ccp_alpha=0.0, criterion='mse', max_depth=1,\n",
              "                      max_features=None, max_leaf_nodes=None,\n",
              "                      min_impurity_decrease=0.0, min_impurity_split=None,\n",
              "                      min_samples_leaf=1, min_samples_split=2,\n",
              "                      min_weight_fraction_leaf=0.0, presort='deprecated',\n",
              "                      random_state=None, splitter='best')"
            ]
          },
          "metadata": {},
          "execution_count": 23
        }
      ]
    },
    {
      "cell_type": "code",
      "metadata": {
        "colab": {
          "base_uri": "https://localhost:8080/",
          "height": 297
        },
        "id": "rWfYMS-imir4",
        "outputId": "263090af-de61-4834-8fcd-6f91603f4e68"
      },
      "source": [
        "plt.plot(df['sqfeet'],df['y-F2'],linestyle='None', marker = 'o')\n",
        "a = np.arange(750,950)\n",
        "plt.plot(a,regressor2.predict(a.reshape(-1,1)))\n",
        "\n",
        "\n",
        "plt.xlabel('SqFeet(x)')\n",
        "plt.ylabel('y-F2')"
      ],
      "execution_count": null,
      "outputs": [
        {
          "output_type": "execute_result",
          "data": {
            "text/plain": [
              "Text(0, 0.5, 'y-F2')"
            ]
          },
          "metadata": {},
          "execution_count": 24
        },
        {
          "output_type": "display_data",
          "data": {
            "image/png": "[encoded data removed]",
            "text/plain": [
              "<Figure size 432x288 with 1 Axes>"
            ]
          },
          "metadata": {
            "needs_background": "light"
          }
        }
      ]
    },
    {
      "cell_type": "code",
      "metadata": {
        "id": "7TF7yQphmyk8"
      },
      "source": [
        "F3 = df['F2']+regressor3.predict(df['sqfeet'].to_numpy().reshape(-1,1))\n",
        "df['F3'] = F3"
      ],
      "execution_count": null,
      "outputs": []
    },
    {
      "cell_type": "code",
      "metadata": {
        "colab": {
          "base_uri": "https://localhost:8080/",
          "height": 297
        },
        "id": "vkiLSpOym43u",
        "outputId": "c2ee4af6-9af6-45ac-b7b0-a8b9ac14c51d"
      },
      "source": [
        "plt.plot(df['sqfeet'],df['rent'],linestyle='None', marker = 'o')\n",
        "plt.plot(df['sqfeet'],df['F3'])\n",
        "\n",
        "plt.xlabel('SqFeet(x)')\n",
        "plt.ylabel('Rent(y)')"
      ],
      "execution_count": null,
      "outputs": [
        {
          "output_type": "execute_result",
          "data": {
            "text/plain": [
              "Text(0, 0.5, 'Rent(y)')"
            ]
          },
          "metadata": {},
          "execution_count": 26
        },
        {
          "output_type": "display_data",
          "data": {
            "image/png": "[encoded data removed]",
            "text/plain": [
              "<Figure size 432x288 with 1 Axes>"
            ]
          },
          "metadata": {
            "needs_background": "light"
          }
        }
      ]
    },
    {
      "cell_type": "code",
      "metadata": {
        "colab": {
          "base_uri": "https://localhost:8080/",
          "height": 954
        },
        "id": "Ab1JjmmspFgL",
        "outputId": "b67080ce-df8f-42cb-b848-02dd5d622ac6"
      },
      "source": [
        "plt.figure(figsize=(16,16))\n",
        "\n",
        "\n",
        "plt.subplot(2,3,1)\n",
        "\n",
        "plt.plot(df['sqfeet'],df['y-F0'],linestyle='None', marker = 'o')\n",
        "a = np.arange(750,950)\n",
        "plt.plot(a,regressor1.predict(a.reshape(-1,1)))\n",
        "\n",
        "plt.ylim(-350,600)\n",
        "\n",
        "\n",
        "plt.xlabel('SqFeet(x)')\n",
        "plt.ylabel('y-F0')\n",
        "\n",
        "plt.subplot(2,3,2)\n",
        "\n",
        "plt.plot(df['sqfeet'],df['y-F1'],linestyle='None', marker = 'o')\n",
        "a = np.arange(750,950)\n",
        "plt.plot(a,regressor2.predict(a.reshape(-1,1)))\n",
        "\n",
        "plt.ylim(-350,600)\n",
        "\n",
        "\n",
        "plt.xlabel('SqFeet(x)')\n",
        "plt.ylabel('y-F1')\n",
        "\n",
        "plt.subplot(2,3,3)\n",
        "\n",
        "plt.plot(df['sqfeet'],df['y-F2'],linestyle='None', marker = 'o')\n",
        "a = np.arange(750,950)\n",
        "plt.plot(a,regressor3.predict(a.reshape(-1,1)))\n",
        "\n",
        "plt.ylim(-350,600)\n",
        "\n",
        "\n",
        "plt.xlabel('SqFeet(x)')\n",
        "plt.ylabel('y-F2')\n",
        "\n",
        "plt.subplot(2,3,4)\n",
        "\n",
        "plt.plot(df['sqfeet'],df['rent'],linestyle='None', marker = 'o')\n",
        "plt.plot(df['sqfeet'],df['F1'])\n",
        "\n",
        "plt.xlabel('SqFeet(x)')\n",
        "plt.ylabel('Rent(y)')\n",
        "\n",
        "plt.subplot(2,3,5)\n",
        "\n",
        "plt.plot(df['sqfeet'],df['rent'],linestyle='None', marker = 'o')\n",
        "plt.plot(df['sqfeet'],df['F2'])\n",
        "\n",
        "plt.xlabel('SqFeet(x)')\n",
        "plt.ylabel('Rent(y)')\n",
        "\n",
        "plt.subplot(2,3,6)\n",
        "\n",
        "plt.plot(df['sqfeet'],df['rent'],linestyle='None', marker = 'o')\n",
        "plt.plot(df['sqfeet'],df['F3'])\n",
        "\n",
        "plt.xlabel('SqFeet(x)')\n",
        "plt.ylabel('Rent(y)')"
      ],
      "execution_count": null,
      "outputs": [
        {
          "output_type": "execute_result",
          "data": {
            "text/plain": [
              "Text(0, 0.5, 'Rent(y)')"
            ]
          },
          "metadata": {},
          "execution_count": 27
        },
        {
          "output_type": "display_data",
          "data": {
            "image/png": "[encoded data removed]",
            "text/plain": [
              "<Figure size 1152x1152 with 6 Axes>"
            ]
          },
          "metadata": {
            "needs_background": "light"
          }
        }
      ]
    },
    {
      "cell_type": "code",
      "metadata": {
        "colab": {
          "base_uri": "https://localhost:8080/",
          "height": 206
        },
        "id": "NC1riyEWs2S6",
        "outputId": "5f0a46b6-b00a-4983-a9af-612b01aaf819"
      },
      "source": [
        "df.head()"
      ],
      "execution_count": null,
      "outputs": [
        {
          "output_type": "execute_result",
          "data": {
            "text/html": [
              "<div>\n",
              "<style scoped>\n",
              "    .dataframe tbody tr th:only-of-type {\n",
              "        vertical-align: middle;\n",
              "    }\n",
              "\n",
              "    .dataframe tbody tr th {\n",
              "        vertical-align: top;\n",
              "    }\n",
              "\n",
              "    .dataframe thead th {\n",
              "        text-align: right;\n",
              "    }\n",
              "</style>\n",
              "<table border=\"1\" class=\"dataframe\">\n",
              "  <thead>\n",
              "    <tr style=\"text-align: right;\">\n",
              "      <th></th>\n",
              "      <th>sqfeet</th>\n",
              "      <th>rent</th>\n",
              "      <th>F0</th>\n",
              "      <th>y-F0</th>\n",
              "      <th>F1</th>\n",
              "      <th>y-F1</th>\n",
              "      <th>F2</th>\n",
              "      <th>y-F2</th>\n",
              "      <th>F3</th>\n",
              "    </tr>\n",
              "  </thead>\n",
              "  <tbody>\n",
              "    <tr>\n",
              "      <th>0</th>\n",
              "      <td>750</td>\n",
              "      <td>1160</td>\n",
              "      <td>1418.0</td>\n",
              "      <td>-258.0</td>\n",
              "      <td>1272.5</td>\n",
              "      <td>-112.5</td>\n",
              "      <td>1180.000000</td>\n",
              "      <td>-20.000000</td>\n",
              "      <td>1195.416667</td>\n",
              "    </tr>\n",
              "    <tr>\n",
              "      <th>1</th>\n",
              "      <td>800</td>\n",
              "      <td>1200</td>\n",
              "      <td>1418.0</td>\n",
              "      <td>-218.0</td>\n",
              "      <td>1272.5</td>\n",
              "      <td>-72.5</td>\n",
              "      <td>1180.000000</td>\n",
              "      <td>20.000000</td>\n",
              "      <td>1195.416667</td>\n",
              "    </tr>\n",
              "    <tr>\n",
              "      <th>2</th>\n",
              "      <td>850</td>\n",
              "      <td>1280</td>\n",
              "      <td>1418.0</td>\n",
              "      <td>-138.0</td>\n",
              "      <td>1272.5</td>\n",
              "      <td>7.5</td>\n",
              "      <td>1334.166667</td>\n",
              "      <td>-54.166667</td>\n",
              "      <td>1349.583333</td>\n",
              "    </tr>\n",
              "    <tr>\n",
              "      <th>3</th>\n",
              "      <td>900</td>\n",
              "      <td>1450</td>\n",
              "      <td>1418.0</td>\n",
              "      <td>32.0</td>\n",
              "      <td>1272.5</td>\n",
              "      <td>177.5</td>\n",
              "      <td>1334.166667</td>\n",
              "      <td>115.833333</td>\n",
              "      <td>1349.583333</td>\n",
              "    </tr>\n",
              "    <tr>\n",
              "      <th>4</th>\n",
              "      <td>950</td>\n",
              "      <td>2000</td>\n",
              "      <td>1418.0</td>\n",
              "      <td>582.0</td>\n",
              "      <td>2000.0</td>\n",
              "      <td>0.0</td>\n",
              "      <td>2061.666667</td>\n",
              "      <td>-61.666667</td>\n",
              "      <td>2000.000000</td>\n",
              "    </tr>\n",
              "  </tbody>\n",
              "</table>\n",
              "</div>"
            ],
            "text/plain": [
              "   sqfeet  rent      F0   y-F0  ...   y-F1           F2        y-F2           F3\n",
              "0     750  1160  1418.0 -258.0  ... -112.5  1180.000000  -20.000000  1195.416667\n",
              "1     800  1200  1418.0 -218.0  ...  -72.5  1180.000000   20.000000  1195.416667\n",
              "2     850  1280  1418.0 -138.0  ...    7.5  1334.166667  -54.166667  1349.583333\n",
              "3     900  1450  1418.0   32.0  ...  177.5  1334.166667  115.833333  1349.583333\n",
              "4     950  2000  1418.0  582.0  ...    0.0  2061.666667  -61.666667  2000.000000\n",
              "\n",
              "[5 rows x 9 columns]"
            ]
          },
          "metadata": {},
          "execution_count": 28
        }
      ]
    }
  ]
}